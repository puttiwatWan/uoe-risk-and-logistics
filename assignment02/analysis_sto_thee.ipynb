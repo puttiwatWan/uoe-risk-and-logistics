{
 "cells": [
  {
   "cell_type": "code",
   "execution_count": 1,
   "id": "3b2ef77b",
   "metadata": {},
   "outputs": [],
   "source": [
    "import pandas as pd\n",
    "import numpy as np\n",
    "import xpress as xp # FICO Xprerss Solver\n",
    "xp.init('/Applications/FICO Xpress/xpressmp/bin/xpauth.xpr')\n",
    "import time\n",
    "from atcs import ATCS\n",
    "import fig_plot as fp\n"
   ]
  },
  {
   "cell_type": "code",
   "execution_count": 2,
   "id": "15352e03",
   "metadata": {},
   "outputs": [],
   "source": [
    "# N_sample = 4\n",
    "# seed = 1\n",
    "# solver_type = 'minlp'\n",
    "# model_type = 'stochastic'\n",
    "# sample_type = f'head_{N_sample}'\n",
    "# data = ATCS(seed = 1)\n",
    "# data.choose_subset_point(N_sample, randomized = False) # Choose subset data"
   ]
  },
  {
   "cell_type": "code",
   "execution_count": 3,
   "id": "31e22435",
   "metadata": {},
   "outputs": [],
   "source": [
    "# data.r_s_sub_df"
   ]
  },
  {
   "cell_type": "code",
   "execution_count": 4,
   "id": "1b70447f",
   "metadata": {},
   "outputs": [],
   "source": [
    "# location_fig = fp.create_l_fig()\n",
    "# location_fig = fp.add_point_to_l_fig(location_fig, data.l_df, size=5, name='All Data Points', color='blue')\n",
    "# location_fig = fp.add_point_to_l_fig(location_fig, data.l_sub_df, size=5, name='Sub Data Points', color='red')\n",
    "# location_fig.show()"
   ]
  },
  {
   "cell_type": "code",
   "execution_count": 5,
   "id": "593b8224",
   "metadata": {},
   "outputs": [],
   "source": [
    "import pandas as pd\n",
    "import numpy as np\n",
    "import time\n",
    "import xpress as xp # FICO Xprerss Solver\n",
    "xp.init('/Applications/FICO Xpress/xpressmp/bin/xpauth.xpr')\n",
    "\n",
    "from atcs import ATCS\n",
    "\n",
    "def run_minlp_stochastic(data:ATCS, N_sample, sample_type, seed = 1,save = True):\n",
    "    # Stochastic MINLP Model\n",
    "    # Data\n",
    "    robot_id = data.r_s_sub_df.index.to_numpy()\n",
    "    robot_loc = data.l_sub_df.to_numpy()\n",
    "    # robot_range = data.R_Kub_df.to_numpy().flatten()\n",
    "    x_min,x_max = np.min(robot_loc, axis=0)[0], np.max(robot_loc, axis=0)[0]\n",
    "    y_min,y_max = np.min(robot_loc, axis=0)[1], np.max(robot_loc, axis=0)[1]\n",
    "    # dist_matrix = data.get_distance_matrix(sample_subset = True)\n",
    "\n",
    "    # Creates an empty Model\n",
    "    model = xp.problem(name='MINLP_Stochastic')\n",
    "    # Given Inputs and Parameters\n",
    "    R_K = {(i, col): data.r_s_sub_df.at[i, col] for i in data.r_s_sub_df.index for col in data.r_s_sub_df.columns}\n",
    "    L_Range = data.r_min # km\n",
    "    U_Range = data.r_max # km\n",
    "    U_Robot = data.q # Max robots per charger\n",
    "    U_Charger = data.m # Max chargers per station\n",
    "    L_Station = int(np.ceil(N_sample/(U_Charger * U_Robot))) # Maximum Robots per opened station\n",
    "    Dist_Max = np.sqrt((x_max - x_min)**2 + (y_max - y_min)**2)\n",
    "    C_b = data.c_b # Investment cost per station\n",
    "    C_h = data.c_h # Cost of moving a robot\n",
    "    C_m = data.c_m # Maintenance cost per charger\n",
    "    C_c = data.c_c # Charging cost per km\n",
    "\n",
    "    Long_V, Lat_V = data.l_sub_df['longitude'].to_dict(), data.l_sub_df['latitude'].to_dict()\n",
    "    A_dict = {(i, col): data.cc_df.at[i, col] for i in data.cc_df.index for col in data.cc_df.columns}\n",
    "\n",
    "    # Parameters\n",
    "    # U_Station = L_Station + 1 # For now\n",
    "    U_Station = len(robot_id)\n",
    "    data.set_output_folder(solver_type, model_type, name = f'{N_sample}_{sample_type}samp_seed{seed}')\n",
    "\n",
    "    # Sets and Notation\n",
    "    V = data.r_s_sub_df.index.to_numpy() # Robot Vehicle sets\n",
    "    S = np.arange(U_Station)\n",
    "    K = data.r_s_sub_df.columns.to_list()\n",
    "\n",
    "\n",
    "    # Output Variables\n",
    "    x = model.addVariables(S, name = 'x', vartype = xp.continuous, lb = x_min, ub = x_max) # Longitude of station s\n",
    "    y = model.addVariables(S, name = 'y', vartype = xp.continuous, lb = y_min, ub = y_max) # Latitude of station s\n",
    "\n",
    "    eta = model.addVariables(S, name = 'eta', vartype = xp.integer) # Number of charger installed at station s\n",
    "    mu = model.addVariables(S, name = 'mu', vartype = xp.binary) # Whether station s is built\n",
    "    beta = model.addVariables(V, S, K, name = 'beta', vartype = xp.binary) # Whether robot v is covered by station s\n",
    "    alpha = model.addVariables(V, S, K, name = 'alpha', vartype = xp.binary) # Whether robot v is brought to station s by taking penalty\n",
    "    d = model.addVariables(V, S, K, name = 'd', vartype = xp.continuous, lb = 0) # Distance from v to s\n",
    "\n",
    "\n",
    "    # Robot v can be allocated to charging station s iff it is built\n",
    "    model.addConstraint(beta[v,s,k] <= A_dict[v,k] * mu[s] for v in V for s in S for k in K) \n",
    "\n",
    "    model.addConstraint(xp.Sum(mu[s] for s in S) >= L_Station)\n",
    "    # model.addConstraint(xp.Sum(mu[s] for s in S) <= L_Station + 1)\n",
    "    # Each Robot v must be allocated to only one station\n",
    "    model.addConstraint(xp.Sum(beta[v,s,k] for s in S) == 1 * A_dict[v,k] for v in V for k in K)\n",
    "\n",
    "    # Number of chargers per station\n",
    "    model.addConstraint(eta[s] >= xp.Sum(A_dict[v,k]*beta[v,s,k] for v in V)/U_Robot for s in S for k in K)\n",
    "    model.addConstraint(eta[s] <= U_Charger for s in S)\n",
    "\n",
    "    # Robot v can be brought to station s by human iff the robot is allocated to that station\n",
    "    model.addConstraint(alpha[v,s,k] <= beta[v,s,k] * A_dict[v,k] for v in V for s in S for k in K)\n",
    "\n",
    "    model.addConstraint(d[v,s,k] <= R_K[v,k] * (1 - alpha[v,s,k]) * A_dict[v,k] for v in V for s in S for k in K)\n",
    "    model.addConstraint(d[v,s,k] >= A_dict[v,k]*(xp.sqrt((Long_V[v] - x[s])**2 + (Lat_V[v] - y[s])**2)\n",
    "                                    - Dist_Max * (alpha[v,s,k] + (1 - beta[v,s,k]))) \n",
    "                                            for v in V for s in S for k in K)\n",
    "    model.addConstraint(d[v,s,k] <= Dist_Max * beta[v,s,k] * A_dict[v,k] for v in V for s in S for k in K)\n",
    "\n",
    "    # Objective Function\n",
    "    Build_station_cost = xp.Sum(C_b * mu[s] for s in S)\n",
    "    Build_charger_cost = xp.Sum(C_m * eta[s] for s in S)\n",
    "\n",
    "    Penalty_cost = (1/len(K))*xp.Sum(C_h * alpha[v,s,k] * A_dict[v,k] for v in V for s in S for k in K)\n",
    "    Charging_cost = (1/len(K))*xp.Sum(C_c * A_dict[v,k]*(beta[v,s,k]*U_Range - (beta[v,s,k]*R_K[v,k] - d[v,s,k])) for v in V for s in S for k in K)\n",
    "\n",
    "    obj = Build_station_cost + Build_charger_cost + Charging_cost + Penalty_cost\n",
    "\n",
    "    model.setObjective(obj, sense=xp.minimize)\n",
    "    model.setControl('maxtime', 3600)\n",
    "    \n",
    "    # Solve the problem\n",
    "    tic = time.time()\n",
    "    model.solve()\n",
    "    toc = time.time()\n",
    "    run_time = tic - toc\n",
    "    \n",
    "    # Preprocess the Output\n",
    "    obj_value = model.getObjVal()\n",
    "    mu_dict = model.getSolution(mu)\n",
    "    eta_dict = model.getSolution(eta)\n",
    "    x_dict = model.getSolution(x)\n",
    "    y_dict = model.getSolution(y)\n",
    "    beta_dict = model.getSolution(beta)\n",
    "    alpha_dict = model.getSolution(alpha)\n",
    "    d_dict = model.getSolution(d)\n",
    "\n",
    "    summary_df = pd.DataFrame({'Objective':[obj_value], 'RunTime':[run_time]})\n",
    "\n",
    "    station_df = pd.DataFrame([mu_dict, eta_dict, x_dict, y_dict], ['mu','eta','longitude','latitude']).T\n",
    "    station_df['Building_Station_Cost'] = station_df['mu'] * C_b\n",
    "    station_df['Building_Charger_Cost'] = station_df['eta'] * C_m\n",
    "\n",
    "    r_k_df = pd.DataFrame.from_dict(R_K, orient='index')\n",
    "    r_k_df.rename(columns={0:'range_scenario'}, inplace=True)\n",
    "\n",
    "    A_df = pd.DataFrame.from_dict(A_dict, orient='index')\n",
    "    A_df.rename(columns={0:'A_v_k'}, inplace = True)\n",
    "\n",
    "    robot_df = pd.DataFrame([beta_dict, alpha_dict, d_dict],['beta','alpha','d']).T.reset_index()\n",
    "    robot_df.rename(columns={'index':'(v,s,k)'}, inplace=True)\n",
    "    robot_df['v'], robot_df['s'], robot_df['k'] = robot_df['(v,s,k)'].apply(lambda x: x[0]), robot_df['(v,s,k)'].apply(lambda x: x[1]), robot_df['(v,s,k)'].apply(lambda x: x[2])\n",
    "    robot_df['(v,k)'] = robot_df['(v,s,k)'].apply(lambda x: (x[0],x[2]))\n",
    "    robot_df.drop(['(v,s,k)'], axis = 1, inplace= True)\n",
    "    robot_df = robot_df.set_index('(v,k)').merge(r_k_df, left_index = True, right_index = True, how = 'left')\n",
    "    robot_df = robot_df.merge(A_df, left_index = True, right_index = True, how = 'left')\n",
    "    robot_df.reset_index(drop = True, inplace=True)\n",
    "    \n",
    "    if save:\n",
    "        station_df.to_csv(f'{data.folder_name}/station_df.csv')\n",
    "        robot_df.to_csv(f'{data.folder_name}/robot_df.csv')\n",
    "\n",
    "    return summary_df, station_df, robot_df, mu_dict, eta_dict, x_dict, y_dict, beta_dict, alpha_dict, d_dict\n",
    "\n",
    "\n",
    "if __name__ == \"__main__\":\n",
    "    N_sample = 10\n",
    "    seed = 1\n",
    "    solver_type = 'minlp'\n",
    "    model_type = 'stochastic'\n",
    "    sample_type = f'head_{N_sample}'\n",
    "    data = ATCS(seed = 1)\n",
    "    data.choose_subset_point(N_sample, randomized = False) # Choose subset data\n",
    "\n",
    "    # (summary_df, station_df, robot_df, \n",
    "    # mu_dict, eta_dict, x_dict, y_dict, \n",
    "    # beta_dict, alpha_dict, d_dict) = run_minlp_stochastic(data, N_sample, sample_type, seed = 1,save = True)\n"
   ]
  },
  {
   "cell_type": "code",
   "execution_count": 6,
   "id": "f419938a",
   "metadata": {},
   "outputs": [
    {
     "ename": "NameError",
     "evalue": "name 'asdfasdf' is not defined",
     "output_type": "error",
     "traceback": [
      "\u001b[0;31m---------------------------------------------------------------------------\u001b[0m",
      "\u001b[0;31mNameError\u001b[0m                                 Traceback (most recent call last)",
      "Cell \u001b[0;32mIn[6], line 1\u001b[0m\n\u001b[0;32m----> 1\u001b[0m \u001b[43masdfasdf\u001b[49m\n",
      "\u001b[0;31mNameError\u001b[0m: name 'asdfasdf' is not defined"
     ]
    }
   ],
   "source": [
    "asdfasdf"
   ]
  },
  {
   "cell_type": "code",
   "execution_count": null,
   "id": "e4bc2091",
   "metadata": {},
   "outputs": [
    {
     "name": "stdout",
     "output_type": "stream",
     "text": [
      "Original problem size\n",
      "   linear:    8806 rows, 4816 columns, 14572 linear coefficients\n",
      "   nonlinear: 1600 coefficients, 49600 tokens\n",
      "             11200 mul             0 div      1600 sqrt\n",
      "Nonlinear presolve\n",
      "   linear presolve removed 3849 rows, 688 columns, 5056 linear coefficients\n",
      "   removed 1376 fixed variables from formulas\n",
      "   simplify removed 5504 tokens\n",
      "   creating 2512 '+' clusters removed 3200 tokens\n",
      "Presolved problem size\n",
      "   linear:    4957 rows, 4129 columns, 9516 linear coefficients\n",
      "   nonlinear: 1600 coefficients, 40896 tokens\n",
      "              6624 mul             0 div      1600 sqrt\n",
      "                 0 exp             0 log      3200 pow\n",
      "Problem is nonlinear presolved\n",
      "FICO Xpress v9.4.2, Hyper, solve started 19:41:01, Apr 7, 2025\n",
      "Control settings used:\n",
      "MAXTIME = 3600\n",
      "OUTPUTLOG = 1\n",
      "NLPPOSTSOLVE = 1\n",
      "XSLP_DELETIONCONTROL = 0\n",
      "XSLP_OBJSENSE = 1\n",
      "Maximum expanded nl-formula size: 29  (row 'R5609')\n",
      "Total tokens: 40896\n",
      "  11  parallel calculation threads\n",
      "  Jacobian: symbolic differentiation\n",
      "        1600 base AD formula, 20.99 average complexity\n",
      "        5024 in the Jacobian, 17.5605 average complexity\n",
      "Initial point objective:  31561.631\n",
      "Absolute / relative validation:            .000  /     1.000\n",
      "Minimizing problem using Xpress-SLP\n",
      "Xpress-SLP Augmentation Statistics:\n",
      "  Columns:\n",
      "           8 implicit SLP variables\n",
      "        1832 delta vectors\n",
      "        1600 penalty error vectors (1600 positive, 0 negative)\n",
      "  Rows:\n",
      "        1600 nonlinear constraints\n",
      "        1832 update rows\n",
      "           1 penalty error rows\n",
      "  Coefficients:\n",
      "        8224 non-constant coefficients\n",
      "\n",
      " It LP    NetObj   ValObj ErrorSum ErrorCost Validate   KKT Unconv  Ext Action T\n",
      "  1 O  6109.4502  6109.45      .00      .00      .36          1083    0        0\n",
      "  2 O  6109.4502               .00      .00                    457    0        0\n",
      "  3 O  6109.4502  6109.45      .00      .00      .00      .00    0    0 *      0\n",
      "Returning final converged solution\n",
      "\n",
      "Xpress-SLP stopped after 3 iterations. 0 unconverged items\n",
      "Problem solved using Xpress-NLP SLP\n",
      "No unconverged values in active constraints\n",
      "FICO Xpress v9.4.2, Hyper, solve started 19:41:01, Apr 7, 2025\n",
      "Heap usage: 2916KB (peak 3330KB, 3610KB system)\n",
      "Minimizing MILP MINLP_Stochastic using 1 thread and up to 18GB memory\n",
      "Original problem has:\n",
      "      6790 rows         7562 cols        22834 elements      3208 entities\n",
      "\n",
      "Coefficient range                    original                 solved        \n",
      "  Coefficients   [min,max] : [ 1.00e-05,  3.00e+01] / [ 5.09e-08,  1.88e+00]\n",
      "  RHS and bounds [min,max] : [ 5.21e-03,  1.35e+02] / [ 5.21e-03,  1.35e+02]\n",
      "  Objective      [min,max] : [ 4.20e-03,  5.00e+03] / [ 3.36e-02,  5.00e+03]\n",
      "Autoscaling applied standard scaling\n",
      "\n",
      "Will try to keep branch and bound tree memory usage below 17.0GB\n",
      " *** Search unfinished ***    Time:     0.02 Nodes:          0\n",
      "  Solution time / primaldual integral :      0.02s/ 100.000000%\n",
      "  Number of solutions found / nodes   :         0 /         0\n",
      "\n",
      "Starting nonlinear heuristics\n",
      "Heuristics stopped     1.132s\n",
      "\n",
      "Invoking SLP global search\n",
      "MIP strategy: SLP within MIP\n",
      "\n",
      "\n",
      "Using 11 parallel tree threads\n",
      "\n",
      "   Node  BestSoln   BoundEstim Sols Active Depth   Gap     GInf    SLPIts  Time\n",
      "      1             6109.4502   0      2     1              690       24      8\n",
      "      2             6109.4502   0      2     2              460       60      9\n",
      "      3             6109.4502   0      3     2                4       65      9\n",
      "      4             6109.4502   0      4     3              460      116      9\n",
      "      5             6109.4502   0      5     3                3      133      9\n",
      "      6             6109.4502   0      6     3                2      164      9\n",
      "      7             6109.4502   0      7     4                4      198      9\n",
      "      8             6109.4502   0      8     3                4      216     10\n",
      "k     6  6141.4990  6109.4502   1      0     0      .52%      0      307     10\n",
      "      9  6141.4990  6109.4502   1      9     4      .52%      2      307     10\n",
      "     10  6141.4990  6109.4502   1     10     5      .52%      2      307     10\n",
      "k     5  6141.4990  6109.4502   2      0     0      .52%      0      329     10\n",
      "     24  6141.4990  6109.4502   2     15     1      .52%      1      385     10\n",
      "*    18  6141.4990  6109.4502   3      0     0      .52%      0      453     11\n",
      "     24  6141.4990  6109.4502   3     15     6      .52%      0      453     11\n",
      "*    25  6141.4990  6109.4502   4      0     0      .52%      0      730     12\n",
      "     33  6141.4990  6109.4502   4     12     5      .52%      0      730     12\n",
      "     34  6141.4990  6109.4502   4     12     5      .52%      1      730     12\n",
      "*    33  6141.4990  6109.4502   5      0     0      .52%      0      847     13\n",
      "     42  6141.4990  6109.4502   5      5     6      .52%      0     1192     13\n",
      "     46  6141.4990  6109.4502   5      4     6      .52%      2     1192     13\n",
      "c    31  6141.4990  6109.4502   6      0     0      .52%      0     1192     13\n",
      "*    48  6141.4990  6109.4502   7      0     0      .52%      0     1210     14\n",
      "     53  6141.4990  6109.4502   7      3     6      .52%      0     1210     14\n",
      "     57  6141.4990  6109.4502   7      2     7      .52%      2     1210     14\n",
      "Tree search: MIP gap is sufficiently small\n",
      "\n",
      "  ! There were function evaluation errors during the MIP search\n",
      "\n",
      "Integer solution statistics:\n",
      "  NLP heuristics: 0\n",
      "  MIP heuristics: 3\n",
      "  Tree search   : 4\n",
      "Problem is nonlinear postsolved\n",
      "Heap usage: 28MB (peak 384MB, 832KB system)\n",
      "Observed Lipschitz constant:    30.016\n",
      "\n",
      "Final MINLP objective (feas. solution)  : 6.141499052206846e+03\n",
      "  Max validation error      (abs/rel) :      .000 /      .000\n",
      "  Observed primal integral :   69.665%\n",
      "  Total time :                14.904s \n",
      "  Time checks (ticks) :        50846 \n",
      "*** MIP gap is less than MIPABSSTOP/MIPRELSTOP ***\n"
     ]
    }
   ],
   "source": [
    "# summary_df, station_df, robot_df, mu_dict, eta_dict, x_dict, y_dict, beta_dict, alpha_dict, d_dict = run_minlp_stochastic(data)"
   ]
  },
  {
   "cell_type": "code",
   "execution_count": null,
   "id": "db47f954",
   "metadata": {},
   "outputs": [],
   "source": [
    "# # Stochastic MINLP Model\n",
    "# # Data\n",
    "# robot_id = data.r_s_sub_df.index.to_numpy()\n",
    "# robot_loc = data.l_sub_df.to_numpy()\n",
    "# # robot_range = data.R_Kub_df.to_numpy().flatten()\n",
    "# x_min,x_max = np.min(robot_loc, axis=0)[0], np.max(robot_loc, axis=0)[0]\n",
    "# y_min,y_max = np.min(robot_loc, axis=0)[1], np.max(robot_loc, axis=0)[1]\n",
    "# # dist_matrix = data.get_distance_matrix(sample_subset = True)\n",
    "\n",
    "# # Creates an empty Model\n",
    "# model = xp.problem(name='MINLP_Stochastic')\n",
    "# # Given Inputs and Parameters\n",
    "# R_K = {(i, col): data.r_s_sub_df.at[i, col] for i in data.r_s_sub_df.index for col in data.r_s_sub_df.columns}\n",
    "# L_Range = data.r_min # km\n",
    "# U_Range = data.r_max # km\n",
    "# U_Robot = data.q # Max robots per charger\n",
    "# U_Charger = data.m # Max chargers per station\n",
    "# L_Station = int(np.ceil(N_sample/(U_Charger * U_Robot))) # Maximum Robots per opened station\n",
    "# Dist_Max = np.sqrt((x_max - x_min)**2 + (y_max - y_min)**2)\n",
    "# C_b = data.c_b # Investment cost per station\n",
    "# C_h = data.c_h # Cost of moving a robot\n",
    "# C_m = data.c_m # Maintenance cost per charger\n",
    "# C_c = data.c_c # Charging cost per km\n",
    "\n",
    "# Long_V, Lat_V = data.l_sub_df['longitude'].to_dict(), data.l_sub_df['latitude'].to_dict()\n",
    "# A_dict = {(i, col): data.cc_df.at[i, col] for i in data.cc_df.index for col in data.cc_df.columns}\n",
    "\n",
    "# # Parameters\n",
    "# # U_Station = L_Station + 1 # For now\n",
    "# U_Station = len(robot_id)\n",
    "# data.set_output_folder(solver_type, model_type, name = f'{N_sample}_{sample_type}samp_{U_Station}s_seed{seed}')\n",
    "\n",
    "# # Sets and Notation\n",
    "# V = data.r_s_sub_df.index.to_numpy() # Robot Vehicle sets\n",
    "# S = np.arange(U_Station)\n",
    "# K = data.r_s_sub_df.columns.to_list()\n",
    "\n",
    "\n",
    "# # Output Variables\n",
    "# x = model.addVariables(S, name = 'x', vartype = xp.continuous, lb = x_min, ub = x_max) # Longitude of station s\n",
    "# y = model.addVariables(S, name = 'y', vartype = xp.continuous, lb = y_min, ub = y_max) # Latitude of station s\n",
    "\n",
    "# eta = model.addVariables(S, name = 'eta', vartype = xp.integer) # Number of charger installed at station s\n",
    "# mu = model.addVariables(S, name = 'mu', vartype = xp.binary) # Whether station s is built\n",
    "# beta = model.addVariables(V, S, K, name = 'beta', vartype = xp.binary) # Whether robot v is covered by station s\n",
    "# alpha = model.addVariables(V, S, K, name = 'alpha', vartype = xp.binary) # Whether robot v is brought to station s by taking penalty\n",
    "# d = model.addVariables(V, S, K, name = 'd', vartype = xp.continuous, lb = 0) # Distance from v to s\n",
    "\n",
    "\n",
    "# # Robot v can be allocated to charging station s iff it is built\n",
    "# model.addConstraint(beta[v,s,k] <= A_dict[v,k] * mu[s] for v in V for s in S for k in K) \n",
    "\n",
    "# model.addConstraint(xp.Sum(mu[s] for s in S) >= L_Station)\n",
    "# model.addConstraint(xp.Sum(mu[s] for s in S) <= L_Station + 1)\n",
    "# # Each Robot v must be allocated to only one station\n",
    "# model.addConstraint(xp.Sum(beta[v,s,k] for s in S) == 1 * A_dict[v,k] for v in V for k in K)\n",
    "\n",
    "# # Number of chargers per station\n",
    "# model.addConstraint(eta[s] >= xp.Sum(A_dict[v,k]*beta[v,s,k] for v in V)/U_Robot for s in S for k in K)\n",
    "# model.addConstraint(eta[s] <= U_Charger for s in S)\n",
    "\n",
    "# # Robot v can be brought to station s by human iff the robot is allocated to that station\n",
    "# model.addConstraint(alpha[v,s,k] <= beta[v,s,k] * A_dict[v,k] for v in V for s in S for k in K)\n",
    "\n",
    "# model.addConstraint(d[v,s,k] <= R_K[v,k] * (1 - alpha[v,s,k]) * A_dict[v,k] for v in V for s in S for k in K)\n",
    "# model.addConstraint(d[v,s,k] >= xp.sqrt((Long_V[v] - x[s])**2 + (Lat_V[v] - y[s])**2)\n",
    "#                                 - Dist_Max * (alpha[v,s,k] + (1 - beta[v,s,k])) \n",
    "#                                         for v in V for s in S for k in K)\n",
    "# model.addConstraint(d[v,s,k] <= Dist_Max * beta[v,s,k] * A_dict[v,k] for v in V for s in S for k in K)\n",
    "\n",
    "# # Objective Function\n",
    "# Build_station_cost = xp.Sum(C_b * mu[s] for s in S)\n",
    "# Build_charger_cost = xp.Sum(C_m * eta[s] for s in S)\n",
    "\n",
    "# Penalty_cost = (1/len(K))*xp.Sum(C_h * alpha[v,s,k] * A_dict[v,k] for v in V for s in S for k in K)\n",
    "# Charging_cost = (1/len(K))*xp.Sum(C_c * A_dict[v,k]*(beta[v,s,k]*U_Range - (beta[v,s,k]*R_K[v,k] - d[v,s,k])) for v in V for s in S for k in K)\n",
    "\n",
    "# obj = Build_station_cost + Build_charger_cost + Charging_cost + Penalty_cost\n",
    "\n",
    "# model.setObjective(obj, sense=xp.minimize)\n",
    "# # model.setControl('miprelstop', 1e-3)\n",
    "# model.setControl('maxtime', 3600)\n",
    "# # Solve the problem\n",
    "# model.solve()"
   ]
  },
  {
   "cell_type": "code",
   "execution_count": null,
   "id": "fcb5049f",
   "metadata": {},
   "outputs": [
    {
     "ename": "NameError",
     "evalue": "name 'model' is not defined",
     "output_type": "error",
     "traceback": [
      "\u001b[0;31m---------------------------------------------------------------------------\u001b[0m",
      "\u001b[0;31mNameError\u001b[0m                                 Traceback (most recent call last)",
      "Cell \u001b[0;32mIn[8], line 1\u001b[0m\n\u001b[0;32m----> 1\u001b[0m mu_dict \u001b[38;5;241m=\u001b[39m \u001b[43mmodel\u001b[49m\u001b[38;5;241m.\u001b[39mgetSolution(mu)\n\u001b[1;32m      2\u001b[0m eta_dict \u001b[38;5;241m=\u001b[39m model\u001b[38;5;241m.\u001b[39mgetSolution(eta)\n\u001b[1;32m      3\u001b[0m x_dict \u001b[38;5;241m=\u001b[39m model\u001b[38;5;241m.\u001b[39mgetSolution(x)\n",
      "\u001b[0;31mNameError\u001b[0m: name 'model' is not defined"
     ]
    }
   ],
   "source": [
    "mu_dict = model.getSolution(mu)\n",
    "eta_dict = model.getSolution(eta)\n",
    "x_dict = model.getSolution(x)\n",
    "y_dict = model.getSolution(y)\n",
    "\n",
    "station_df = pd.DataFrame([mu_dict, eta_dict, x_dict, y_dict], ['mu','eta','longitude','latitude']).T\n",
    "station_df['Building_Station_Cost'] = station_df['mu'] * C_b\n",
    "station_df['Building_Charger_Cost'] = station_df['eta'] * C_m"
   ]
  },
  {
   "cell_type": "code",
   "execution_count": null,
   "id": "b89520e1",
   "metadata": {},
   "outputs": [
    {
     "data": {
      "text/html": [
       "<div>\n",
       "<style scoped>\n",
       "    .dataframe tbody tr th:only-of-type {\n",
       "        vertical-align: middle;\n",
       "    }\n",
       "\n",
       "    .dataframe tbody tr th {\n",
       "        vertical-align: top;\n",
       "    }\n",
       "\n",
       "    .dataframe thead th {\n",
       "        text-align: right;\n",
       "    }\n",
       "</style>\n",
       "<table border=\"1\" class=\"dataframe\">\n",
       "  <thead>\n",
       "    <tr style=\"text-align: right;\">\n",
       "      <th></th>\n",
       "      <th>mu</th>\n",
       "      <th>eta</th>\n",
       "      <th>longitude</th>\n",
       "      <th>latitude</th>\n",
       "      <th>Building_Station_Cost</th>\n",
       "      <th>Building_Charger_Cost</th>\n",
       "    </tr>\n",
       "  </thead>\n",
       "  <tbody>\n",
       "    <tr>\n",
       "      <th>0</th>\n",
       "      <td>1.0</td>\n",
       "      <td>2.0</td>\n",
       "      <td>-122.679901</td>\n",
       "      <td>-81.120257</td>\n",
       "      <td>5000.0</td>\n",
       "      <td>1000.0</td>\n",
       "    </tr>\n",
       "    <tr>\n",
       "      <th>1</th>\n",
       "      <td>0.0</td>\n",
       "      <td>0.0</td>\n",
       "      <td>-134.537839</td>\n",
       "      <td>-84.681705</td>\n",
       "      <td>0.0</td>\n",
       "      <td>0.0</td>\n",
       "    </tr>\n",
       "    <tr>\n",
       "      <th>2</th>\n",
       "      <td>0.0</td>\n",
       "      <td>0.0</td>\n",
       "      <td>-134.537839</td>\n",
       "      <td>-84.681705</td>\n",
       "      <td>0.0</td>\n",
       "      <td>0.0</td>\n",
       "    </tr>\n",
       "    <tr>\n",
       "      <th>3</th>\n",
       "      <td>0.0</td>\n",
       "      <td>0.0</td>\n",
       "      <td>-134.537839</td>\n",
       "      <td>-84.681705</td>\n",
       "      <td>0.0</td>\n",
       "      <td>0.0</td>\n",
       "    </tr>\n",
       "  </tbody>\n",
       "</table>\n",
       "</div>"
      ],
      "text/plain": [
       "    mu  eta   longitude   latitude  Building_Station_Cost  \\\n",
       "0  1.0  2.0 -122.679901 -81.120257                 5000.0   \n",
       "1  0.0  0.0 -134.537839 -84.681705                    0.0   \n",
       "2  0.0  0.0 -134.537839 -84.681705                    0.0   \n",
       "3  0.0  0.0 -134.537839 -84.681705                    0.0   \n",
       "\n",
       "   Building_Charger_Cost  \n",
       "0                 1000.0  \n",
       "1                    0.0  \n",
       "2                    0.0  \n",
       "3                    0.0  "
      ]
     },
     "execution_count": 9,
     "metadata": {},
     "output_type": "execute_result"
    }
   ],
   "source": [
    "station_df"
   ]
  },
  {
   "cell_type": "code",
   "execution_count": null,
   "id": "cceb921f",
   "metadata": {},
   "outputs": [],
   "source": [
    "r_k_df = pd.DataFrame.from_dict(R_K, orient='index')\n",
    "r_k_df.rename(columns={0:'range_scenario'}, inplace=True)\n",
    "\n",
    "A_df = pd.DataFrame.from_dict(A_dict, orient='index')\n",
    "A_df.rename(columns={0:'A_v_k'}, inplace = True)"
   ]
  },
  {
   "cell_type": "code",
   "execution_count": null,
   "id": "e193f4bd",
   "metadata": {},
   "outputs": [],
   "source": [
    "beta_dict = model.getSolution(beta)\n",
    "alpha_dict = model.getSolution(alpha)\n",
    "d_dict = model.getSolution(d)\n",
    "\n",
    "robot_df = pd.DataFrame([beta_dict, alpha_dict, d_dict],['beta','alpha','d']).T.reset_index()\n",
    "robot_df.rename(columns={'index':'(v,s,k)'}, inplace=True)\n",
    "robot_df['v'], robot_df['s'], robot_df['k'] = robot_df['(v,s,k)'].apply(lambda x: x[0]), robot_df['(v,s,k)'].apply(lambda x: x[1]), robot_df['(v,s,k)'].apply(lambda x: x[2])\n",
    "robot_df['(v,k)'] = robot_df['(v,s,k)'].apply(lambda x: (x[0],x[2]))\n",
    "robot_df.drop(['(v,s,k)'], axis = 1, inplace= True)\n",
    "robot_df = robot_df.set_index('(v,k)').merge(r_k_df, left_index = True, right_index = True, how = 'left')\n",
    "robot_df = robot_df.merge(A_df, left_index = True, right_index = True, how = 'left')\n",
    "robot_df.reset_index(drop = True, inplace=True)\n",
    "# robot_df = robot_df[['v','s','k','beta','alpha','d']]\n",
    "# robot_df = robot_df.groupby(['v','k','s']).sum()"
   ]
  },
  {
   "cell_type": "code",
   "execution_count": null,
   "id": "eaddec33",
   "metadata": {},
   "outputs": [],
   "source": [
    "C_h = data.c_h\n",
    "C_c = data.c_c\n",
    "U_Range = data.r_max\n",
    "K = data.r_s_sub_df.columns.to_list()"
   ]
  },
  {
   "cell_type": "code",
   "execution_count": null,
   "id": "73e5b368",
   "metadata": {},
   "outputs": [],
   "source": [
    "robot_df['Penalty_Cost'] = robot_df['alpha'] * robot_df['A_v_k'] * C_h\n",
    "robot_df['Charging_Cost'] = C_c * robot_df['A_v_k'] * (robot_df['beta']*U_Range - (robot_df['beta']*robot_df['range_scenario'] - robot_df['d']))\n",
    "# Charging_cost = (1/len(K))*xp.Sum(C_c * A_dict[v,k]*(beta[v,s,k]*U_Range - (beta[v,s,k]*R_K[v,k] - d[v,s,k])) for v in V for s in S for k in K)\n"
   ]
  },
  {
   "cell_type": "code",
   "execution_count": null,
   "id": "a010009b",
   "metadata": {},
   "outputs": [],
   "source": []
  },
  {
   "cell_type": "code",
   "execution_count": null,
   "id": "daf001cf",
   "metadata": {},
   "outputs": [
    {
     "data": {
      "text/plain": [
       "6141.499052206885"
      ]
     },
     "execution_count": 11,
     "metadata": {},
     "output_type": "execute_result"
    }
   ],
   "source": [
    "(1/len(K))*(robot_df['Penalty_Cost'].sum()) + (1/len(K))*(robot_df['Charging_Cost'].sum()) + 5000 + 1000"
   ]
  },
  {
   "cell_type": "code",
   "execution_count": null,
   "id": "2e85f014",
   "metadata": {},
   "outputs": [
    {
     "data": {
      "text/html": [
       "<div>\n",
       "<style scoped>\n",
       "    .dataframe tbody tr th:only-of-type {\n",
       "        vertical-align: middle;\n",
       "    }\n",
       "\n",
       "    .dataframe tbody tr th {\n",
       "        vertical-align: top;\n",
       "    }\n",
       "\n",
       "    .dataframe thead th {\n",
       "        text-align: right;\n",
       "    }\n",
       "</style>\n",
       "<table border=\"1\" class=\"dataframe\">\n",
       "  <thead>\n",
       "    <tr style=\"text-align: right;\">\n",
       "      <th></th>\n",
       "      <th>mu</th>\n",
       "      <th>eta</th>\n",
       "      <th>longitude</th>\n",
       "      <th>latitude</th>\n",
       "      <th>Building_Station_Cost</th>\n",
       "      <th>Building_Charger_Cost</th>\n",
       "    </tr>\n",
       "  </thead>\n",
       "  <tbody>\n",
       "    <tr>\n",
       "      <th>0</th>\n",
       "      <td>1.0</td>\n",
       "      <td>2.0</td>\n",
       "      <td>-122.679901</td>\n",
       "      <td>-81.120257</td>\n",
       "      <td>5000.0</td>\n",
       "      <td>1000.0</td>\n",
       "    </tr>\n",
       "    <tr>\n",
       "      <th>1</th>\n",
       "      <td>0.0</td>\n",
       "      <td>0.0</td>\n",
       "      <td>-134.537839</td>\n",
       "      <td>-84.681705</td>\n",
       "      <td>0.0</td>\n",
       "      <td>0.0</td>\n",
       "    </tr>\n",
       "    <tr>\n",
       "      <th>2</th>\n",
       "      <td>0.0</td>\n",
       "      <td>0.0</td>\n",
       "      <td>-134.537839</td>\n",
       "      <td>-84.681705</td>\n",
       "      <td>0.0</td>\n",
       "      <td>0.0</td>\n",
       "    </tr>\n",
       "    <tr>\n",
       "      <th>3</th>\n",
       "      <td>0.0</td>\n",
       "      <td>0.0</td>\n",
       "      <td>-134.537839</td>\n",
       "      <td>-84.681705</td>\n",
       "      <td>0.0</td>\n",
       "      <td>0.0</td>\n",
       "    </tr>\n",
       "  </tbody>\n",
       "</table>\n",
       "</div>"
      ],
      "text/plain": [
       "    mu  eta   longitude   latitude  Building_Station_Cost  \\\n",
       "0  1.0  2.0 -122.679901 -81.120257                 5000.0   \n",
       "1  0.0  0.0 -134.537839 -84.681705                    0.0   \n",
       "2  0.0  0.0 -134.537839 -84.681705                    0.0   \n",
       "3  0.0  0.0 -134.537839 -84.681705                    0.0   \n",
       "\n",
       "   Building_Charger_Cost  \n",
       "0                 1000.0  \n",
       "1                    0.0  \n",
       "2                    0.0  \n",
       "3                    0.0  "
      ]
     },
     "execution_count": 15,
     "metadata": {},
     "output_type": "execute_result"
    }
   ],
   "source": [
    "station_df"
   ]
  },
  {
   "cell_type": "code",
   "execution_count": null,
   "id": "48ef6717",
   "metadata": {},
   "outputs": [
    {
     "ename": "NameError",
     "evalue": "name 'R_K' is not defined",
     "output_type": "error",
     "traceback": [
      "\u001b[0;31m---------------------------------------------------------------------------\u001b[0m",
      "\u001b[0;31mNameError\u001b[0m                                 Traceback (most recent call last)",
      "Cell \u001b[0;32mIn[12], line 1\u001b[0m\n\u001b[0;32m----> 1\u001b[0m r_k_df \u001b[38;5;241m=\u001b[39m pd\u001b[38;5;241m.\u001b[39mDataFrame\u001b[38;5;241m.\u001b[39mfrom_dict(\u001b[43mR_K\u001b[49m, orient\u001b[38;5;241m=\u001b[39m\u001b[38;5;124m'\u001b[39m\u001b[38;5;124mindex\u001b[39m\u001b[38;5;124m'\u001b[39m)\u001b[38;5;241m.\u001b[39mreset_index()\n",
      "\u001b[0;31mNameError\u001b[0m: name 'R_K' is not defined"
     ]
    }
   ],
   "source": [
    "r_k_df = pd.DataFrame.from_dict(R_K, orient='index').reset_index()"
   ]
  },
  {
   "cell_type": "code",
   "execution_count": null,
   "id": "8922e67f",
   "metadata": {},
   "outputs": [
    {
     "data": {
      "text/html": [
       "<div>\n",
       "<style scoped>\n",
       "    .dataframe tbody tr th:only-of-type {\n",
       "        vertical-align: middle;\n",
       "    }\n",
       "\n",
       "    .dataframe tbody tr th {\n",
       "        vertical-align: top;\n",
       "    }\n",
       "\n",
       "    .dataframe thead th {\n",
       "        text-align: right;\n",
       "    }\n",
       "</style>\n",
       "<table border=\"1\" class=\"dataframe\">\n",
       "  <thead>\n",
       "    <tr style=\"text-align: right;\">\n",
       "      <th></th>\n",
       "      <th>index</th>\n",
       "      <th>0</th>\n",
       "    </tr>\n",
       "  </thead>\n",
       "  <tbody>\n",
       "    <tr>\n",
       "      <th>0</th>\n",
       "      <td>(0, s0)</td>\n",
       "      <td>127.868274</td>\n",
       "    </tr>\n",
       "    <tr>\n",
       "      <th>1</th>\n",
       "      <td>(0, s1)</td>\n",
       "      <td>99.607518</td>\n",
       "    </tr>\n",
       "    <tr>\n",
       "      <th>2</th>\n",
       "      <td>(0, s2)</td>\n",
       "      <td>115.991472</td>\n",
       "    </tr>\n",
       "    <tr>\n",
       "      <th>3</th>\n",
       "      <td>(0, s3)</td>\n",
       "      <td>98.862235</td>\n",
       "    </tr>\n",
       "    <tr>\n",
       "      <th>4</th>\n",
       "      <td>(0, s4)</td>\n",
       "      <td>56.717849</td>\n",
       "    </tr>\n",
       "    <tr>\n",
       "      <th>...</th>\n",
       "      <td>...</td>\n",
       "      <td>...</td>\n",
       "    </tr>\n",
       "    <tr>\n",
       "      <th>395</th>\n",
       "      <td>(3, s95)</td>\n",
       "      <td>58.621838</td>\n",
       "    </tr>\n",
       "    <tr>\n",
       "      <th>396</th>\n",
       "      <td>(3, s96)</td>\n",
       "      <td>57.366586</td>\n",
       "    </tr>\n",
       "    <tr>\n",
       "      <th>397</th>\n",
       "      <td>(3, s97)</td>\n",
       "      <td>67.822953</td>\n",
       "    </tr>\n",
       "    <tr>\n",
       "      <th>398</th>\n",
       "      <td>(3, s98)</td>\n",
       "      <td>19.142513</td>\n",
       "    </tr>\n",
       "    <tr>\n",
       "      <th>399</th>\n",
       "      <td>(3, s99)</td>\n",
       "      <td>35.151859</td>\n",
       "    </tr>\n",
       "  </tbody>\n",
       "</table>\n",
       "<p>400 rows × 2 columns</p>\n",
       "</div>"
      ],
      "text/plain": [
       "        index           0\n",
       "0     (0, s0)  127.868274\n",
       "1     (0, s1)   99.607518\n",
       "2     (0, s2)  115.991472\n",
       "3     (0, s3)   98.862235\n",
       "4     (0, s4)   56.717849\n",
       "..        ...         ...\n",
       "395  (3, s95)   58.621838\n",
       "396  (3, s96)   57.366586\n",
       "397  (3, s97)   67.822953\n",
       "398  (3, s98)   19.142513\n",
       "399  (3, s99)   35.151859\n",
       "\n",
       "[400 rows x 2 columns]"
      ]
     },
     "execution_count": 17,
     "metadata": {},
     "output_type": "execute_result"
    }
   ],
   "source": [
    "r_k_df"
   ]
  },
  {
   "cell_type": "code",
   "execution_count": null,
   "id": "d6849135",
   "metadata": {},
   "outputs": [
    {
     "data": {
      "text/html": [
       "<div>\n",
       "<style scoped>\n",
       "    .dataframe tbody tr th:only-of-type {\n",
       "        vertical-align: middle;\n",
       "    }\n",
       "\n",
       "    .dataframe tbody tr th {\n",
       "        vertical-align: top;\n",
       "    }\n",
       "\n",
       "    .dataframe thead th {\n",
       "        text-align: right;\n",
       "    }\n",
       "</style>\n",
       "<table border=\"1\" class=\"dataframe\">\n",
       "  <thead>\n",
       "    <tr style=\"text-align: right;\">\n",
       "      <th></th>\n",
       "      <th>beta</th>\n",
       "      <th>alpha</th>\n",
       "      <th>d</th>\n",
       "      <th>v</th>\n",
       "      <th>s</th>\n",
       "      <th>k</th>\n",
       "      <th>range_scenario</th>\n",
       "      <th>A_v_k</th>\n",
       "      <th>Penalty_Cost</th>\n",
       "      <th>Charging_Cost</th>\n",
       "    </tr>\n",
       "  </thead>\n",
       "  <tbody>\n",
       "    <tr>\n",
       "      <th>0</th>\n",
       "      <td>0.0</td>\n",
       "      <td>0.0</td>\n",
       "      <td>0.000000</td>\n",
       "      <td>0</td>\n",
       "      <td>0</td>\n",
       "      <td>s0</td>\n",
       "      <td>127.868274</td>\n",
       "      <td>0</td>\n",
       "      <td>0.0</td>\n",
       "      <td>0.000000</td>\n",
       "    </tr>\n",
       "    <tr>\n",
       "      <th>1</th>\n",
       "      <td>0.0</td>\n",
       "      <td>0.0</td>\n",
       "      <td>0.000000</td>\n",
       "      <td>0</td>\n",
       "      <td>0</td>\n",
       "      <td>s1</td>\n",
       "      <td>99.607518</td>\n",
       "      <td>0</td>\n",
       "      <td>0.0</td>\n",
       "      <td>0.000000</td>\n",
       "    </tr>\n",
       "    <tr>\n",
       "      <th>2</th>\n",
       "      <td>1.0</td>\n",
       "      <td>0.0</td>\n",
       "      <td>3.080686</td>\n",
       "      <td>0</td>\n",
       "      <td>0</td>\n",
       "      <td>s2</td>\n",
       "      <td>115.991472</td>\n",
       "      <td>1</td>\n",
       "      <td>0.0</td>\n",
       "      <td>26.077470</td>\n",
       "    </tr>\n",
       "    <tr>\n",
       "      <th>3</th>\n",
       "      <td>0.0</td>\n",
       "      <td>0.0</td>\n",
       "      <td>0.000000</td>\n",
       "      <td>0</td>\n",
       "      <td>0</td>\n",
       "      <td>s3</td>\n",
       "      <td>98.862235</td>\n",
       "      <td>0</td>\n",
       "      <td>0.0</td>\n",
       "      <td>0.000000</td>\n",
       "    </tr>\n",
       "    <tr>\n",
       "      <th>4</th>\n",
       "      <td>1.0</td>\n",
       "      <td>0.0</td>\n",
       "      <td>3.080686</td>\n",
       "      <td>0</td>\n",
       "      <td>0</td>\n",
       "      <td>s4</td>\n",
       "      <td>56.717849</td>\n",
       "      <td>1</td>\n",
       "      <td>0.0</td>\n",
       "      <td>50.972391</td>\n",
       "    </tr>\n",
       "    <tr>\n",
       "      <th>...</th>\n",
       "      <td>...</td>\n",
       "      <td>...</td>\n",
       "      <td>...</td>\n",
       "      <td>...</td>\n",
       "      <td>...</td>\n",
       "      <td>...</td>\n",
       "      <td>...</td>\n",
       "      <td>...</td>\n",
       "      <td>...</td>\n",
       "      <td>...</td>\n",
       "    </tr>\n",
       "    <tr>\n",
       "      <th>395</th>\n",
       "      <td>0.0</td>\n",
       "      <td>0.0</td>\n",
       "      <td>0.000000</td>\n",
       "      <td>0</td>\n",
       "      <td>3</td>\n",
       "      <td>s95</td>\n",
       "      <td>85.335774</td>\n",
       "      <td>1</td>\n",
       "      <td>0.0</td>\n",
       "      <td>0.000000</td>\n",
       "    </tr>\n",
       "    <tr>\n",
       "      <th>396</th>\n",
       "      <td>0.0</td>\n",
       "      <td>0.0</td>\n",
       "      <td>0.000000</td>\n",
       "      <td>0</td>\n",
       "      <td>3</td>\n",
       "      <td>s96</td>\n",
       "      <td>45.937307</td>\n",
       "      <td>1</td>\n",
       "      <td>0.0</td>\n",
       "      <td>0.000000</td>\n",
       "    </tr>\n",
       "    <tr>\n",
       "      <th>397</th>\n",
       "      <td>0.0</td>\n",
       "      <td>0.0</td>\n",
       "      <td>0.000000</td>\n",
       "      <td>0</td>\n",
       "      <td>3</td>\n",
       "      <td>s97</td>\n",
       "      <td>40.648336</td>\n",
       "      <td>1</td>\n",
       "      <td>0.0</td>\n",
       "      <td>0.000000</td>\n",
       "    </tr>\n",
       "    <tr>\n",
       "      <th>398</th>\n",
       "      <td>0.0</td>\n",
       "      <td>0.0</td>\n",
       "      <td>0.000000</td>\n",
       "      <td>0</td>\n",
       "      <td>3</td>\n",
       "      <td>s98</td>\n",
       "      <td>75.513443</td>\n",
       "      <td>1</td>\n",
       "      <td>0.0</td>\n",
       "      <td>0.000000</td>\n",
       "    </tr>\n",
       "    <tr>\n",
       "      <th>399</th>\n",
       "      <td>0.0</td>\n",
       "      <td>0.0</td>\n",
       "      <td>0.000000</td>\n",
       "      <td>0</td>\n",
       "      <td>3</td>\n",
       "      <td>s99</td>\n",
       "      <td>68.891890</td>\n",
       "      <td>0</td>\n",
       "      <td>0.0</td>\n",
       "      <td>0.000000</td>\n",
       "    </tr>\n",
       "  </tbody>\n",
       "</table>\n",
       "<p>400 rows × 10 columns</p>\n",
       "</div>"
      ],
      "text/plain": [
       "     beta  alpha         d  v  s    k  range_scenario  A_v_k  Penalty_Cost  \\\n",
       "0     0.0    0.0  0.000000  0  0   s0      127.868274      0           0.0   \n",
       "1     0.0    0.0  0.000000  0  0   s1       99.607518      0           0.0   \n",
       "2     1.0    0.0  3.080686  0  0   s2      115.991472      1           0.0   \n",
       "3     0.0    0.0  0.000000  0  0   s3       98.862235      0           0.0   \n",
       "4     1.0    0.0  3.080686  0  0   s4       56.717849      1           0.0   \n",
       "..    ...    ...       ... .. ..  ...             ...    ...           ...   \n",
       "395   0.0    0.0  0.000000  0  3  s95       85.335774      1           0.0   \n",
       "396   0.0    0.0  0.000000  0  3  s96       45.937307      1           0.0   \n",
       "397   0.0    0.0  0.000000  0  3  s97       40.648336      1           0.0   \n",
       "398   0.0    0.0  0.000000  0  3  s98       75.513443      1           0.0   \n",
       "399   0.0    0.0  0.000000  0  3  s99       68.891890      0           0.0   \n",
       "\n",
       "     Charging_Cost  \n",
       "0         0.000000  \n",
       "1         0.000000  \n",
       "2        26.077470  \n",
       "3         0.000000  \n",
       "4        50.972391  \n",
       "..             ...  \n",
       "395       0.000000  \n",
       "396       0.000000  \n",
       "397       0.000000  \n",
       "398       0.000000  \n",
       "399       0.000000  \n",
       "\n",
       "[400 rows x 10 columns]"
      ]
     },
     "execution_count": 18,
     "metadata": {},
     "output_type": "execute_result"
    }
   ],
   "source": [
    "robot_df[(robot_df['v'] == 0)]"
   ]
  },
  {
   "cell_type": "code",
   "execution_count": null,
   "id": "adfb7c17",
   "metadata": {},
   "outputs": [
    {
     "data": {
      "text/html": [
       "<div>\n",
       "<style scoped>\n",
       "    .dataframe tbody tr th:only-of-type {\n",
       "        vertical-align: middle;\n",
       "    }\n",
       "\n",
       "    .dataframe tbody tr th {\n",
       "        vertical-align: top;\n",
       "    }\n",
       "\n",
       "    .dataframe thead th {\n",
       "        text-align: right;\n",
       "    }\n",
       "</style>\n",
       "<table border=\"1\" class=\"dataframe\">\n",
       "  <thead>\n",
       "    <tr style=\"text-align: right;\">\n",
       "      <th></th>\n",
       "      <th>mu</th>\n",
       "      <th>eta</th>\n",
       "      <th>longitude</th>\n",
       "      <th>latitude</th>\n",
       "      <th>Building_Station_Cost</th>\n",
       "      <th>Building_Charger_Cost</th>\n",
       "    </tr>\n",
       "  </thead>\n",
       "  <tbody>\n",
       "    <tr>\n",
       "      <th>0</th>\n",
       "      <td>1.0</td>\n",
       "      <td>2.0</td>\n",
       "      <td>-122.679901</td>\n",
       "      <td>-81.120257</td>\n",
       "      <td>5000.0</td>\n",
       "      <td>1000.0</td>\n",
       "    </tr>\n",
       "    <tr>\n",
       "      <th>1</th>\n",
       "      <td>0.0</td>\n",
       "      <td>0.0</td>\n",
       "      <td>-134.537839</td>\n",
       "      <td>-84.681705</td>\n",
       "      <td>0.0</td>\n",
       "      <td>0.0</td>\n",
       "    </tr>\n",
       "    <tr>\n",
       "      <th>2</th>\n",
       "      <td>0.0</td>\n",
       "      <td>0.0</td>\n",
       "      <td>-134.537839</td>\n",
       "      <td>-84.681705</td>\n",
       "      <td>0.0</td>\n",
       "      <td>0.0</td>\n",
       "    </tr>\n",
       "    <tr>\n",
       "      <th>3</th>\n",
       "      <td>0.0</td>\n",
       "      <td>0.0</td>\n",
       "      <td>-134.537839</td>\n",
       "      <td>-84.681705</td>\n",
       "      <td>0.0</td>\n",
       "      <td>0.0</td>\n",
       "    </tr>\n",
       "  </tbody>\n",
       "</table>\n",
       "</div>"
      ],
      "text/plain": [
       "    mu  eta   longitude   latitude  Building_Station_Cost  \\\n",
       "0  1.0  2.0 -122.679901 -81.120257                 5000.0   \n",
       "1  0.0  0.0 -134.537839 -84.681705                    0.0   \n",
       "2  0.0  0.0 -134.537839 -84.681705                    0.0   \n",
       "3  0.0  0.0 -134.537839 -84.681705                    0.0   \n",
       "\n",
       "   Building_Charger_Cost  \n",
       "0                 1000.0  \n",
       "1                    0.0  \n",
       "2                    0.0  \n",
       "3                    0.0  "
      ]
     },
     "execution_count": 19,
     "metadata": {},
     "output_type": "execute_result"
    }
   ],
   "source": [
    "station_df"
   ]
  },
  {
   "cell_type": "code",
   "execution_count": null,
   "id": "61fa2bf9",
   "metadata": {},
   "outputs": [],
   "source": []
  },
  {
   "cell_type": "code",
   "execution_count": 7,
   "id": "406f59cb",
   "metadata": {},
   "outputs": [],
   "source": [
    "station_df = pd.read_csv('minlp_output/stochastic/10_head_10samp_seed1/station_df.csv', index_col=0)"
   ]
  },
  {
   "cell_type": "code",
   "execution_count": 8,
   "id": "42c33e37",
   "metadata": {},
   "outputs": [],
   "source": [
    "heu_station_df = pd.DataFrame([(-125.4642114026697, -83.34843878988191)])\n",
    "heu_station_df.columns = ['longitude','latitude']"
   ]
  },
  {
   "cell_type": "code",
   "execution_count": 10,
   "id": "87385b84",
   "metadata": {},
   "outputs": [
    {
     "data": {
      "application/vnd.plotly.v1+json": {
       "config": {
        "plotlyServerURL": "https://plot.ly"
       },
       "data": [
        {
         "lat": [
          -79.23837427,
          -83.4262141,
          -84.68170509,
          -77.96400711,
          -86.93488792,
          -89.76382182,
          -77.79880444,
          -79.2271725,
          -87.85896352,
          -86.90936566
         ],
         "lon": [
          -120.2408148,
          -134.5378392,
          -105.2822148,
          -105.4532435,
          -168.8162601,
          -115.5387208,
          -134.2914704,
          -104.5018311,
          -140.1312288,
          -122.5076672
         ],
         "marker": {
          "color": "red",
          "size": 5
         },
         "mode": "markers",
         "name": "Sub Data Points",
         "type": "scattergeo"
        },
        {
         "lat": [
          -82.62546957698511
         ],
         "lon": [
          -122.80524225613787
         ],
         "marker": {
          "color": "green",
          "size": 7
         },
         "mode": "markers",
         "name": "MINLP Stations",
         "type": "scattergeo"
        },
        {
         "lat": [
          -83.34843878988191
         ],
         "lon": [
          -125.4642114026697
         ],
         "marker": {
          "color": "Blue",
          "size": 7
         },
         "mode": "markers",
         "name": "Construction Heuristic Stations",
         "type": "scattergeo"
        }
       ],
       "layout": {
        "geo": {
         "lataxis": {
          "range": [
           -180,
           -150
          ]
         },
         "lonaxis": {
          "range": [
           -180,
           180
          ]
         },
         "scope": "world",
         "showland": true
        },
        "height": 800,
        "legend": {
         "bgcolor": "rgba(255,255,255,0.7)",
         "x": 0.63,
         "y": 1
        },
        "template": {
         "data": {
          "bar": [
           {
            "error_x": {
             "color": "#2a3f5f"
            },
            "error_y": {
             "color": "#2a3f5f"
            },
            "marker": {
             "line": {
              "color": "#E5ECF6",
              "width": 0.5
             },
             "pattern": {
              "fillmode": "overlay",
              "size": 10,
              "solidity": 0.2
             }
            },
            "type": "bar"
           }
          ],
          "barpolar": [
           {
            "marker": {
             "line": {
              "color": "#E5ECF6",
              "width": 0.5
             },
             "pattern": {
              "fillmode": "overlay",
              "size": 10,
              "solidity": 0.2
             }
            },
            "type": "barpolar"
           }
          ],
          "carpet": [
           {
            "aaxis": {
             "endlinecolor": "#2a3f5f",
             "gridcolor": "white",
             "linecolor": "white",
             "minorgridcolor": "white",
             "startlinecolor": "#2a3f5f"
            },
            "baxis": {
             "endlinecolor": "#2a3f5f",
             "gridcolor": "white",
             "linecolor": "white",
             "minorgridcolor": "white",
             "startlinecolor": "#2a3f5f"
            },
            "type": "carpet"
           }
          ],
          "choropleth": [
           {
            "colorbar": {
             "outlinewidth": 0,
             "ticks": ""
            },
            "type": "choropleth"
           }
          ],
          "contour": [
           {
            "colorbar": {
             "outlinewidth": 0,
             "ticks": ""
            },
            "colorscale": [
             [
              0,
              "#0d0887"
             ],
             [
              0.1111111111111111,
              "#46039f"
             ],
             [
              0.2222222222222222,
              "#7201a8"
             ],
             [
              0.3333333333333333,
              "#9c179e"
             ],
             [
              0.4444444444444444,
              "#bd3786"
             ],
             [
              0.5555555555555556,
              "#d8576b"
             ],
             [
              0.6666666666666666,
              "#ed7953"
             ],
             [
              0.7777777777777778,
              "#fb9f3a"
             ],
             [
              0.8888888888888888,
              "#fdca26"
             ],
             [
              1,
              "#f0f921"
             ]
            ],
            "type": "contour"
           }
          ],
          "contourcarpet": [
           {
            "colorbar": {
             "outlinewidth": 0,
             "ticks": ""
            },
            "type": "contourcarpet"
           }
          ],
          "heatmap": [
           {
            "colorbar": {
             "outlinewidth": 0,
             "ticks": ""
            },
            "colorscale": [
             [
              0,
              "#0d0887"
             ],
             [
              0.1111111111111111,
              "#46039f"
             ],
             [
              0.2222222222222222,
              "#7201a8"
             ],
             [
              0.3333333333333333,
              "#9c179e"
             ],
             [
              0.4444444444444444,
              "#bd3786"
             ],
             [
              0.5555555555555556,
              "#d8576b"
             ],
             [
              0.6666666666666666,
              "#ed7953"
             ],
             [
              0.7777777777777778,
              "#fb9f3a"
             ],
             [
              0.8888888888888888,
              "#fdca26"
             ],
             [
              1,
              "#f0f921"
             ]
            ],
            "type": "heatmap"
           }
          ],
          "heatmapgl": [
           {
            "colorbar": {
             "outlinewidth": 0,
             "ticks": ""
            },
            "colorscale": [
             [
              0,
              "#0d0887"
             ],
             [
              0.1111111111111111,
              "#46039f"
             ],
             [
              0.2222222222222222,
              "#7201a8"
             ],
             [
              0.3333333333333333,
              "#9c179e"
             ],
             [
              0.4444444444444444,
              "#bd3786"
             ],
             [
              0.5555555555555556,
              "#d8576b"
             ],
             [
              0.6666666666666666,
              "#ed7953"
             ],
             [
              0.7777777777777778,
              "#fb9f3a"
             ],
             [
              0.8888888888888888,
              "#fdca26"
             ],
             [
              1,
              "#f0f921"
             ]
            ],
            "type": "heatmapgl"
           }
          ],
          "histogram": [
           {
            "marker": {
             "pattern": {
              "fillmode": "overlay",
              "size": 10,
              "solidity": 0.2
             }
            },
            "type": "histogram"
           }
          ],
          "histogram2d": [
           {
            "colorbar": {
             "outlinewidth": 0,
             "ticks": ""
            },
            "colorscale": [
             [
              0,
              "#0d0887"
             ],
             [
              0.1111111111111111,
              "#46039f"
             ],
             [
              0.2222222222222222,
              "#7201a8"
             ],
             [
              0.3333333333333333,
              "#9c179e"
             ],
             [
              0.4444444444444444,
              "#bd3786"
             ],
             [
              0.5555555555555556,
              "#d8576b"
             ],
             [
              0.6666666666666666,
              "#ed7953"
             ],
             [
              0.7777777777777778,
              "#fb9f3a"
             ],
             [
              0.8888888888888888,
              "#fdca26"
             ],
             [
              1,
              "#f0f921"
             ]
            ],
            "type": "histogram2d"
           }
          ],
          "histogram2dcontour": [
           {
            "colorbar": {
             "outlinewidth": 0,
             "ticks": ""
            },
            "colorscale": [
             [
              0,
              "#0d0887"
             ],
             [
              0.1111111111111111,
              "#46039f"
             ],
             [
              0.2222222222222222,
              "#7201a8"
             ],
             [
              0.3333333333333333,
              "#9c179e"
             ],
             [
              0.4444444444444444,
              "#bd3786"
             ],
             [
              0.5555555555555556,
              "#d8576b"
             ],
             [
              0.6666666666666666,
              "#ed7953"
             ],
             [
              0.7777777777777778,
              "#fb9f3a"
             ],
             [
              0.8888888888888888,
              "#fdca26"
             ],
             [
              1,
              "#f0f921"
             ]
            ],
            "type": "histogram2dcontour"
           }
          ],
          "mesh3d": [
           {
            "colorbar": {
             "outlinewidth": 0,
             "ticks": ""
            },
            "type": "mesh3d"
           }
          ],
          "parcoords": [
           {
            "line": {
             "colorbar": {
              "outlinewidth": 0,
              "ticks": ""
             }
            },
            "type": "parcoords"
           }
          ],
          "pie": [
           {
            "automargin": true,
            "type": "pie"
           }
          ],
          "scatter": [
           {
            "fillpattern": {
             "fillmode": "overlay",
             "size": 10,
             "solidity": 0.2
            },
            "type": "scatter"
           }
          ],
          "scatter3d": [
           {
            "line": {
             "colorbar": {
              "outlinewidth": 0,
              "ticks": ""
             }
            },
            "marker": {
             "colorbar": {
              "outlinewidth": 0,
              "ticks": ""
             }
            },
            "type": "scatter3d"
           }
          ],
          "scattercarpet": [
           {
            "marker": {
             "colorbar": {
              "outlinewidth": 0,
              "ticks": ""
             }
            },
            "type": "scattercarpet"
           }
          ],
          "scattergeo": [
           {
            "marker": {
             "colorbar": {
              "outlinewidth": 0,
              "ticks": ""
             }
            },
            "type": "scattergeo"
           }
          ],
          "scattergl": [
           {
            "marker": {
             "colorbar": {
              "outlinewidth": 0,
              "ticks": ""
             }
            },
            "type": "scattergl"
           }
          ],
          "scattermapbox": [
           {
            "marker": {
             "colorbar": {
              "outlinewidth": 0,
              "ticks": ""
             }
            },
            "type": "scattermapbox"
           }
          ],
          "scatterpolar": [
           {
            "marker": {
             "colorbar": {
              "outlinewidth": 0,
              "ticks": ""
             }
            },
            "type": "scatterpolar"
           }
          ],
          "scatterpolargl": [
           {
            "marker": {
             "colorbar": {
              "outlinewidth": 0,
              "ticks": ""
             }
            },
            "type": "scatterpolargl"
           }
          ],
          "scatterternary": [
           {
            "marker": {
             "colorbar": {
              "outlinewidth": 0,
              "ticks": ""
             }
            },
            "type": "scatterternary"
           }
          ],
          "surface": [
           {
            "colorbar": {
             "outlinewidth": 0,
             "ticks": ""
            },
            "colorscale": [
             [
              0,
              "#0d0887"
             ],
             [
              0.1111111111111111,
              "#46039f"
             ],
             [
              0.2222222222222222,
              "#7201a8"
             ],
             [
              0.3333333333333333,
              "#9c179e"
             ],
             [
              0.4444444444444444,
              "#bd3786"
             ],
             [
              0.5555555555555556,
              "#d8576b"
             ],
             [
              0.6666666666666666,
              "#ed7953"
             ],
             [
              0.7777777777777778,
              "#fb9f3a"
             ],
             [
              0.8888888888888888,
              "#fdca26"
             ],
             [
              1,
              "#f0f921"
             ]
            ],
            "type": "surface"
           }
          ],
          "table": [
           {
            "cells": {
             "fill": {
              "color": "#EBF0F8"
             },
             "line": {
              "color": "white"
             }
            },
            "header": {
             "fill": {
              "color": "#C8D4E3"
             },
             "line": {
              "color": "white"
             }
            },
            "type": "table"
           }
          ]
         },
         "layout": {
          "annotationdefaults": {
           "arrowcolor": "#2a3f5f",
           "arrowhead": 0,
           "arrowwidth": 1
          },
          "autotypenumbers": "strict",
          "coloraxis": {
           "colorbar": {
            "outlinewidth": 0,
            "ticks": ""
           }
          },
          "colorscale": {
           "diverging": [
            [
             0,
             "#8e0152"
            ],
            [
             0.1,
             "#c51b7d"
            ],
            [
             0.2,
             "#de77ae"
            ],
            [
             0.3,
             "#f1b6da"
            ],
            [
             0.4,
             "#fde0ef"
            ],
            [
             0.5,
             "#f7f7f7"
            ],
            [
             0.6,
             "#e6f5d0"
            ],
            [
             0.7,
             "#b8e186"
            ],
            [
             0.8,
             "#7fbc41"
            ],
            [
             0.9,
             "#4d9221"
            ],
            [
             1,
             "#276419"
            ]
           ],
           "sequential": [
            [
             0,
             "#0d0887"
            ],
            [
             0.1111111111111111,
             "#46039f"
            ],
            [
             0.2222222222222222,
             "#7201a8"
            ],
            [
             0.3333333333333333,
             "#9c179e"
            ],
            [
             0.4444444444444444,
             "#bd3786"
            ],
            [
             0.5555555555555556,
             "#d8576b"
            ],
            [
             0.6666666666666666,
             "#ed7953"
            ],
            [
             0.7777777777777778,
             "#fb9f3a"
            ],
            [
             0.8888888888888888,
             "#fdca26"
            ],
            [
             1,
             "#f0f921"
            ]
           ],
           "sequentialminus": [
            [
             0,
             "#0d0887"
            ],
            [
             0.1111111111111111,
             "#46039f"
            ],
            [
             0.2222222222222222,
             "#7201a8"
            ],
            [
             0.3333333333333333,
             "#9c179e"
            ],
            [
             0.4444444444444444,
             "#bd3786"
            ],
            [
             0.5555555555555556,
             "#d8576b"
            ],
            [
             0.6666666666666666,
             "#ed7953"
            ],
            [
             0.7777777777777778,
             "#fb9f3a"
            ],
            [
             0.8888888888888888,
             "#fdca26"
            ],
            [
             1,
             "#f0f921"
            ]
           ]
          },
          "colorway": [
           "#636efa",
           "#EF553B",
           "#00cc96",
           "#ab63fa",
           "#FFA15A",
           "#19d3f3",
           "#FF6692",
           "#B6E880",
           "#FF97FF",
           "#FECB52"
          ],
          "font": {
           "color": "#2a3f5f"
          },
          "geo": {
           "bgcolor": "white",
           "lakecolor": "white",
           "landcolor": "#E5ECF6",
           "showlakes": true,
           "showland": true,
           "subunitcolor": "white"
          },
          "hoverlabel": {
           "align": "left"
          },
          "hovermode": "closest",
          "mapbox": {
           "style": "light"
          },
          "paper_bgcolor": "white",
          "plot_bgcolor": "#E5ECF6",
          "polar": {
           "angularaxis": {
            "gridcolor": "white",
            "linecolor": "white",
            "ticks": ""
           },
           "bgcolor": "#E5ECF6",
           "radialaxis": {
            "gridcolor": "white",
            "linecolor": "white",
            "ticks": ""
           }
          },
          "scene": {
           "xaxis": {
            "backgroundcolor": "#E5ECF6",
            "gridcolor": "white",
            "gridwidth": 2,
            "linecolor": "white",
            "showbackground": true,
            "ticks": "",
            "zerolinecolor": "white"
           },
           "yaxis": {
            "backgroundcolor": "#E5ECF6",
            "gridcolor": "white",
            "gridwidth": 2,
            "linecolor": "white",
            "showbackground": true,
            "ticks": "",
            "zerolinecolor": "white"
           },
           "zaxis": {
            "backgroundcolor": "#E5ECF6",
            "gridcolor": "white",
            "gridwidth": 2,
            "linecolor": "white",
            "showbackground": true,
            "ticks": "",
            "zerolinecolor": "white"
           }
          },
          "shapedefaults": {
           "line": {
            "color": "#2a3f5f"
           }
          },
          "ternary": {
           "aaxis": {
            "gridcolor": "white",
            "linecolor": "white",
            "ticks": ""
           },
           "baxis": {
            "gridcolor": "white",
            "linecolor": "white",
            "ticks": ""
           },
           "bgcolor": "#E5ECF6",
           "caxis": {
            "gridcolor": "white",
            "linecolor": "white",
            "ticks": ""
           }
          },
          "title": {
           "x": 0.05
          },
          "xaxis": {
           "automargin": true,
           "gridcolor": "white",
           "linecolor": "white",
           "ticks": "",
           "title": {
            "standoff": 15
           },
           "zerolinecolor": "white",
           "zerolinewidth": 2
          },
          "yaxis": {
           "automargin": true,
           "gridcolor": "white",
           "linecolor": "white",
           "ticks": "",
           "title": {
            "standoff": 15
           },
           "zerolinecolor": "white",
           "zerolinewidth": 2
          }
         }
        },
        "title": {
         "text": "Robot Location"
        },
        "width": 1200
       }
      }
     },
     "metadata": {},
     "output_type": "display_data"
    }
   ],
   "source": [
    "location_fig = fp.create_l_fig()\n",
    "# location_fig = fp.add_point_to_l_fig(location_fig, data.l_df, size=5, name='All Data Points', color='blue')\n",
    "location_fig = fp.add_point_to_l_fig(location_fig, data.l_sub_df, size=5, name='Sub Data Points', color='red')\n",
    "location_fig = fp.add_point_to_l_fig(location_fig, station_df[station_df['mu'] != 0], size=7, name='MINLP Stations', color='green')\n",
    "location_fig = fp.add_point_to_l_fig(location_fig, heu_station_df, size=7, name='Construction Heuristic Stations', color='Blue')\n",
    "# # location_fig = fp.add_point_to_l_fig(location_fig, cen_heu_station_df, size=7, name='Centroid Heuristic Stations', color='Yellow')\n",
    "# location_fig = fp.add_point_to_l_fig(location_fig, imp_heu_station_df, size=7, name='Improved Heuristic Stations', color='Purple')\n",
    "location_fig.update_layout(geo=dict(\n",
    "            scope=\"world\",  # Or use 'europe', etc.\n",
    "            showland=True,\n",
    "            lataxis=dict(range=[-180,-150]),  # Set latitude range (y-axis)\n",
    "            lonaxis=dict(range=[-180,180])   # Optional: set longitude range (x-axis)\n",
    "        ),        legend=dict(\n",
    "            x=0.63,\n",
    "            y=1.00,\n",
    "            bgcolor='rgba(255,255,255,0.7)',\n",
    "            # bordercolor='black',\n",
    "            # borderwidth=1\n",
    "        ))\n",
    "location_fig.show()"
   ]
  },
  {
   "cell_type": "code",
   "execution_count": null,
   "id": "a54c5eed",
   "metadata": {},
   "outputs": [],
   "source": [
    "# E[(Rmax - Rk)*Ik] = (1/2)(175 - 10)*1 + (1/2)(175 - 50) * 1"
   ]
  },
  {
   "cell_type": "code",
   "execution_count": null,
   "id": "2901c907",
   "metadata": {},
   "outputs": [],
   "source": [
    "# Each Robot 1 Weight Centroid\n",
    "# (1/2)*(175 - 10)*1 + (1/2)*(175 - 50) * 0"
   ]
  },
  {
   "cell_type": "code",
   "execution_count": null,
   "id": "de87835b",
   "metadata": {},
   "outputs": [
    {
     "ename": "NameError",
     "evalue": "name 'Rmax' is not defined",
     "output_type": "error",
     "traceback": [
      "\u001b[0;31m---------------------------------------------------------------------------\u001b[0m",
      "\u001b[0;31mNameError\u001b[0m                                 Traceback (most recent call last)",
      "Cell \u001b[0;32mIn[24], line 1\u001b[0m\n\u001b[0;32m----> 1\u001b[0m \u001b[43mRmax\u001b[49m \u001b[38;5;241m-\u001b[39m E[Rk \u001b[38;5;241m*\u001b[39m I]\n",
      "\u001b[0;31mNameError\u001b[0m: name 'Rmax' is not defined"
     ]
    }
   ],
   "source": [
    "Rmax - E[Rk * I]"
   ]
  }
 ],
 "metadata": {
  "kernelspec": {
   "display_name": "trm_conda",
   "language": "python",
   "name": "python3"
  },
  "language_info": {
   "codemirror_mode": {
    "name": "ipython",
    "version": 3
   },
   "file_extension": ".py",
   "mimetype": "text/x-python",
   "name": "python",
   "nbconvert_exporter": "python",
   "pygments_lexer": "ipython3",
   "version": "3.11.7"
  }
 },
 "nbformat": 4,
 "nbformat_minor": 5
}
