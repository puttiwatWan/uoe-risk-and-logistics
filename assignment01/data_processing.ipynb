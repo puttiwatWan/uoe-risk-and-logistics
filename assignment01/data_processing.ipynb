{
 "cells": [
  {
   "cell_type": "code",
   "execution_count": 1,
   "id": "50db46e1-740e-4d3f-86c5-b9db8e5e5b6b",
   "metadata": {},
   "outputs": [
    {
     "name": "stdout",
     "output_type": "stream",
     "text": [
      "Intel MKL WARNING: Support of Intel(R) Streaming SIMD Extensions 4.2 (Intel(R) SSE4.2) enabled only processors has been deprecated. Intel oneAPI Math Kernel Library 2025.0 will require Intel(R) Advanced Vector Extensions (Intel(R) AVX) instructions.\n",
      "Intel MKL WARNING: Support of Intel(R) Streaming SIMD Extensions 4.2 (Intel(R) SSE4.2) enabled only processors has been deprecated. Intel oneAPI Math Kernel Library 2025.0 will require Intel(R) Advanced Vector Extensions (Intel(R) AVX) instructions.\n"
     ]
    }
   ],
   "source": [
    "# -*- coding: utf-8 -*-\n",
    "\"\"\"\n",
    "Created on Mon Jan 27 11:17:58 2025\n",
    "\n",
    "@author: ksearle\n",
    "\"\"\"\n",
    "import re\n",
    "import numpy as np\n",
    "from collections import defaultdict\n",
    "\n",
    "\n",
    "def parse_dat_file(file_path):\n",
    "    parsed_data = defaultdict(dict)  # Dictionary to store variables and their indexed values\n",
    "    current_variable = None\n",
    "    buffer = \"\"  # Buffer to collect multiline values\n",
    "\n",
    "    with open(file_path, 'r') as file:\n",
    "        for line in file:\n",
    "            line = line.strip()\n",
    "            if not line or line.startswith(\"!\"):  # Skip comments and empty lines\n",
    "                continue\n",
    "\n",
    "            if \":\" in line:  # New variable starts\n",
    "                if current_variable:  # Save the previous variable\n",
    "                    store_buffer_data(current_variable, buffer, parsed_data)\n",
    "                # Extract variable name and initialize buffer\n",
    "                current_variable, value = map(str.strip, line.split(\":\", 1))\n",
    "                current_variable = re.sub(r\"\\(.*?\\)\", \"\", current_variable).strip()  # Base variable name\n",
    "                buffer = value  # Start collecting data for this variable\n",
    "            else:\n",
    "                buffer += \" \" + line  # Continue collecting data for the current variable\n",
    "\n",
    "        # Save the last variable\n",
    "        if current_variable:\n",
    "            store_buffer_data(current_variable, buffer, parsed_data)\n",
    "\n",
    "    # Convert defaultdict to regular dictionary for simplicity\n",
    "    return {k: dict(v) if isinstance(v, dict) else v for k, v in parsed_data.items()}\n",
    "\n",
    "\n",
    "def store_buffer_data(variable_name, buffer, parsed_data):\n",
    "    \"\"\"\n",
    "    Parse the buffer content into indexed data and store it.\n",
    "    \"\"\"\n",
    "    # Remove any stray '[' from the buffer before processing\n",
    "    buffer = buffer.lstrip('[').rstrip(']')\n",
    "\n",
    "    # Check if the value contains an array or just a scalar\n",
    "    if \"(\" in buffer:  # Handle multi-dimensional array values\n",
    "        pattern = re.compile(r\"\\((.*?)\\)\\s*([^()]+)\")\n",
    "        matches = pattern.findall(buffer)\n",
    "\n",
    "        for index, value_str in matches:\n",
    "            # Convert index into tuple for multi-dimensional keys\n",
    "            index_tuple = tuple(map(int, index.split()))\n",
    "            # Parse values (try converting to numbers)\n",
    "            values = parse_values(value_str)\n",
    "            parsed_data[variable_name][index_tuple] = values\n",
    "    elif any(c in buffer for c in \"0123456789\"):  # Handle one-dimensional arrays (no parentheses but contains numbers)\n",
    "        values = parse_values(buffer)\n",
    "        parsed_data[variable_name] = values\n",
    "    else:\n",
    "        # It's a scalar value, store it directly\n",
    "        parsed_data[variable_name] = parse_values(buffer)\n",
    "\n",
    "\n",
    "def parse_values(value_str):\n",
    "    \"\"\"\n",
    "    Parse a string of space-separated values into a list of numbers or strings.\n",
    "    \"\"\"\n",
    "    # Strip any stray closing brackets (e.g., from the last value in the array)\n",
    "    value_str = value_str.rstrip(']')\n",
    "\n",
    "    try:\n",
    "        # Try to parse as floats\n",
    "        return [float(x) for x in value_str.split()]\n",
    "    except ValueError:\n",
    "        # Fallback to string array if parsing fails\n",
    "        return value_str.split()\n",
    "\n",
    "\n",
    "# Example usage\n",
    "file_path = \"CaseStudyData.txt\"  # Replace with the actual file path\n",
    "parsed_data = parse_dat_file(file_path)"
   ]
  },
  {
   "cell_type": "code",
   "execution_count": 2,
   "id": "5b8a1358-19f3-41c6-8db9-2fb1ce605072",
   "metadata": {},
   "outputs": [
    {
     "name": "stdout",
     "output_type": "stream",
     "text": [
      "nbCustomers:\n",
      "nbCandidates:\n",
      "nbSuppliers:\n",
      "nbProductGroups:\n",
      "nbVehicleTypes:\n",
      "nbPeriods:\n",
      "nbScenarios:\n",
      "CustomerId:\n",
      "CustomerEasting:\n",
      "CustomerNorthing:\n",
      "CustomerPopulation:\n",
      "CandidateId:\n",
      "CandidateEasting:\n",
      "CandidateNorthing:\n",
      "SupplierId:\n",
      "SupplierEasting:\n",
      "SupplierNorthing:\n",
      "SupplierProductGroup:\n",
      "SupplierCapacity:\n",
      "SupplierVehicleType:\n",
      "VehicleCapacity:\n",
      "VehicleCostPerMileOverall:\n",
      "VehicleCostPerMileAndTonneOverall:\n",
      "VehicleCO2PerMileAndTonne:\n",
      "Setup:\n",
      "Operating:\n",
      "Capacity:\n",
      "CustomerDemand:\n",
      "CustomerDemandPeriods:\n",
      "CustomerDemandPeriodScenarios:\n",
      "DistanceCandidateSupplier:\n",
      "DistanceCandidateCustomer:\n"
     ]
    }
   ],
   "source": [
    "# Print parsed variables and their indexed values\n",
    "for variable, value_dict in parsed_data.items():\n",
    "    print(f\"{variable}:\")"
   ]
  },
  {
   "cell_type": "code",
   "execution_count": 13,
   "id": "0dd1b0bd-bee8-45c0-89a0-833b98fe02d3",
   "metadata": {},
   "outputs": [
    {
     "data": {
      "text/plain": [
       "([440.0], [53.0], [440.0])"
      ]
     },
     "execution_count": 13,
     "metadata": {},
     "output_type": "execute_result"
    }
   ],
   "source": [
    "(parsed_data['nbCandidates'], parsed_data['nbSuppliers'], parsed_data['nbCustomers'])"
   ]
  },
  {
   "cell_type": "code",
   "execution_count": 19,
   "id": "fdf11039-a58d-48c9-a0f9-c3b8b942f161",
   "metadata": {},
   "outputs": [
    {
     "data": {
      "image/png": "[encoded data removed]",
      "text/plain": [
       "<Figure size 640x480 with 1 Axes>"
      ]
     },
     "metadata": {},
     "output_type": "display_data"
    }
   ],
   "source": [
    "import matplotlib.pyplot as plt\n",
    "\n",
    "plt.scatter(parsed_data['CustomerEasting'], parsed_data['CandidateNorthing'])\n",
    "plt.show()"
   ]
  },
  {
   "cell_type": "code",
   "execution_count": 18,
   "id": "034cf599-64d6-4555-800c-ffceca1d6292",
   "metadata": {},
   "outputs": [
    {
     "data": {
      "text/plain": [
       "dict_keys([(1, 1), (2, 1), (3, 1), (4, 1), (5, 1), (6, 1), (7, 1), (8, 1), (9, 1), (10, 1), (11, 1), (12, 1), (13, 1), (14, 1), (15, 1), (16, 1), (17, 1), (18, 1), (19, 1), (20, 1), (21, 1), (22, 1), (23, 1), (24, 1), (25, 1), (26, 1), (27, 1), (28, 1), (29, 1), (30, 1), (31, 1), (32, 1), (33, 1), (34, 1), (35, 1), (36, 1), (37, 1), (38, 1), (39, 1), (40, 1), (41, 1), (42, 1), (43, 1), (44, 1), (45, 1), (46, 1), (47, 1), (48, 1), (49, 1), (50, 1), (51, 1), (52, 1), (53, 1), (54, 1), (55, 1), (56, 1), (57, 1), (58, 1), (59, 1), (60, 1), (61, 1), (62, 1), (63, 1), (64, 1), (65, 1), (66, 1), (67, 1), (68, 1), (69, 1), (70, 1), (71, 1), (72, 1), (73, 1), (74, 1), (75, 1), (76, 1), (77, 1), (78, 1), (79, 1), (80, 1), (81, 1), (82, 1), (83, 1), (84, 1), (85, 1), (86, 1), (87, 1), (88, 1), (89, 1), (90, 1), (91, 1), (92, 1), (93, 1), (94, 1), (95, 1), (96, 1), (97, 1), (98, 1), (99, 1), (100, 1), (101, 1), (102, 1), (103, 1), (104, 1), (105, 1), (106, 1), (107, 1), (108, 1), (109, 1), (110, 1), (111, 1), (112, 1), (113, 1), (114, 1), (115, 1), (116, 1), (117, 1), (118, 1), (119, 1), (120, 1), (121, 1), (122, 1), (123, 1), (124, 1), (125, 1), (126, 1), (127, 1), (128, 1), (129, 1), (130, 1), (131, 1), (132, 1), (133, 1), (134, 1), (135, 1), (136, 1), (137, 1), (138, 1), (139, 1), (140, 1), (141, 1), (142, 1), (143, 1), (144, 1), (145, 1), (146, 1), (147, 1), (148, 1), (149, 1), (150, 1), (151, 1), (152, 1), (153, 1), (154, 1), (155, 1), (156, 1), (157, 1), (158, 1), (159, 1), (160, 1), (161, 1), (162, 1), (163, 1), (164, 1), (165, 1), (166, 1), (167, 1), (168, 1), (169, 1), (170, 1), (171, 1), (172, 1), (173, 1), (174, 1), (175, 1), (176, 1), (177, 1), (178, 1), (179, 1), (180, 1), (181, 1), (182, 1), (183, 1), (184, 1), (185, 1), (186, 1), (187, 1), (188, 1), (189, 1), (190, 1), (191, 1), (192, 1), (193, 1), (194, 1), (195, 1), (196, 1), (197, 1), (198, 1), (199, 1), (200, 1), (201, 1), (202, 1), (203, 1), (204, 1), (205, 1), (206, 1), (207, 1), (208, 1), (209, 1), (210, 1), (211, 1), (212, 1), (213, 1), (214, 1), (215, 1), (216, 1), (217, 1), (218, 1), (219, 1), (220, 1), (221, 1), (222, 1), (223, 1), (224, 1), (225, 1), (226, 1), (227, 1), (228, 1), (229, 1), (230, 1), (231, 1), (232, 1), (233, 1), (234, 1), (235, 1), (236, 1), (237, 1), (238, 1), (239, 1), (240, 1), (241, 1), (242, 1), (243, 1), (244, 1), (245, 1), (246, 1), (247, 1), (248, 1), (249, 1), (250, 1), (251, 1), (252, 1), (253, 1), (254, 1), (255, 1), (256, 1), (257, 1), (258, 1), (259, 1), (260, 1), (261, 1), (262, 1), (263, 1), (264, 1), (265, 1), (266, 1), (267, 1), (268, 1), (269, 1), (270, 1), (271, 1), (272, 1), (273, 1), (274, 1), (275, 1), (276, 1), (277, 1), (278, 1), (279, 1), (280, 1), (281, 1), (282, 1), (283, 1), (284, 1), (285, 1), (286, 1), (287, 1), (288, 1), (289, 1), (290, 1), (291, 1), (292, 1), (293, 1), (294, 1), (295, 1), (296, 1), (297, 1), (298, 1), (299, 1), (300, 1), (301, 1), (302, 1), (303, 1), (304, 1), (305, 1), (306, 1), (307, 1), (308, 1), (309, 1), (310, 1), (311, 1), (312, 1), (313, 1), (314, 1), (315, 1), (316, 1), (317, 1), (318, 1), (319, 1), (320, 1), (321, 1), (322, 1), (323, 1), (324, 1), (325, 1), (326, 1), (327, 1), (328, 1), (329, 1), (330, 1), (331, 1), (332, 1), (333, 1), (334, 1), (335, 1), (336, 1), (337, 1), (338, 1), (339, 1), (340, 1), (341, 1), (342, 1), (343, 1), (344, 1), (345, 1), (346, 1), (347, 1), (348, 1), (349, 1), (350, 1), (351, 1), (352, 1), (353, 1), (354, 1), (355, 1), (356, 1), (357, 1), (358, 1), (359, 1), (360, 1), (361, 1), (362, 1), (363, 1), (364, 1), (365, 1), (366, 1), (367, 1), (368, 1), (369, 1), (370, 1), (371, 1), (372, 1), (373, 1), (374, 1), (375, 1), (376, 1), (377, 1), (378, 1), (379, 1), (380, 1), (381, 1), (382, 1), (383, 1), (384, 1), (385, 1), (386, 1), (387, 1), (388, 1), (389, 1), (390, 1), (391, 1), (392, 1), (393, 1), (394, 1), (395, 1), (396, 1), (397, 1), (398, 1), (399, 1), (400, 1), (401, 1), (402, 1), (403, 1), (404, 1), (405, 1), (406, 1), (407, 1), (408, 1), (409, 1), (410, 1), (411, 1), (412, 1), (413, 1), (414, 1), (415, 1), (416, 1), (417, 1), (418, 1), (419, 1), (420, 1), (421, 1), (422, 1), (423, 1), (424, 1), (425, 1), (426, 1), (427, 1), (428, 1), (429, 1), (430, 1), (431, 1), (432, 1), (433, 1), (434, 1), (435, 1), (436, 1), (437, 1), (438, 1), (439, 1), (440, 1)])"
      ]
     },
     "execution_count": 18,
     "metadata": {},
     "output_type": "execute_result"
    }
   ],
   "source": [
    "parsed_data['DistanceCandidateSupplier'].keys()"
   ]
  },
  {
   "cell_type": "code",
   "execution_count": 15,
   "id": "75b6c8b9-6716-4ec5-84dc-3e0ea908648c",
   "metadata": {},
   "outputs": [
    {
     "data": {
      "text/plain": [
       "53"
      ]
     },
     "execution_count": 15,
     "metadata": {},
     "output_type": "execute_result"
    }
   ],
   "source": [
    "len(parsed_data['DistanceCandidateSupplier'][(2,1)])"
   ]
  }
 ],
 "metadata": {
  "kernelspec": {
   "display_name": "Python 3 (ipykernel)",
   "language": "python",
   "name": "python3"
  },
  "language_info": {
   "codemirror_mode": {
    "name": "ipython",
    "version": 3
   },
   "file_extension": ".py",
   "mimetype": "text/x-python",
   "name": "python",
   "nbconvert_exporter": "python",
   "pygments_lexer": "ipython3",
   "version": "3.12.7"
  }
 },
 "nbformat": 4,
 "nbformat_minor": 5
}
