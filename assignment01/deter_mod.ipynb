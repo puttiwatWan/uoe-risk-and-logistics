{
 "cells": [
  {
   "cell_type": "code",
   "execution_count": 1,
   "metadata": {},
   "outputs": [],
   "source": [
    "import preprocessing as pp\n",
    "import pandas as pd\n",
    "import numpy as np"
   ]
  },
  {
   "cell_type": "code",
   "execution_count": 2,
   "metadata": {},
   "outputs": [],
   "source": [
    "customer_df, candidate_df, supplier_df, vehicle_df, distance_w_to_s_df, distance_w_to_c_df, demand_cus_period_df, demand_cus_period_scene_df = pp.read_and_prep_data()\n",
    "\n",
    "# 2 methods for clustering\n",
    "\n",
    "customer_df, cluster_center_df = pp.ori_cluster_by_cus_loc(customer_df, n_clusters=100, random_state=42, n_init=10)\n",
    "# customer_df, cluster_center_df = pp.const_cluster_by_cus_loc(customer_df, n_clusters=100, size_min=4, size_max=400, random_state=42)\n",
    "\n",
    "agg_dem_cus_period_df = pp.agg_dem_cus_period(demand_cus_period_df,customer_df)"
   ]
  },
  {
   "cell_type": "code",
   "execution_count": null,
   "metadata": {},
   "outputs": [],
   "source": [
    "# def create_dis_mat_df(depart_df:pd.DataFrame, arrive_df:pd.DataFrame, method: 'cityblock'):\n",
    "#     # Assuming warehouse_df and customer_df have columns ['x', 'y']\n",
    "#     depart_coords = depart_df[['CandidateEasting', 'CandidateNorthing']].values\n",
    "#     arrive_coords = arrive_df[['CustomerEasting', 'CustomerNorthing']].values\n",
    "\n",
    "#     # Compute Euclidean distance matrix\n",
    "#     distance_matrix = cdist(depart_coords, arrive_coords, metric=method)/1000\n",
    "#     # display(distance_matrix)\n",
    "#     # Convert to a Pandas DataFrame for better readability\n",
    "#     distance_df = pd.DataFrame(distance_matrix, \n",
    "#                             index=depart_df.index, \n",
    "#                             columns=arrive_df.index)\n",
    "\n",
    "#     return distance_df\n",
    "\n",
    "# def calculate_cost_from_w_to_cluster(distance_df:pd.DataFrame, vehicle_df:pd.DataFrame):\n",
    "#     cost_w_to_cluster = distance_df.copy()\n",
    "#     for w in range(len(distance_df.index)):\n",
    "#         for c in range(len(distance_df.columns)):\n",
    "#             cost_w_to_cluster.at[w,c] = 2 * distance_df.at[w,c] * vehicle_df.at[2,'VehicleCostPerMileAndTonneOverall'] / 1000   \n",
    "#     return cost_w_to_cluster\n",
    "\n",
    "# def calculate_cost_from_w_to_s(distance_df:pd.DataFrame, vehicle_df:pd.DataFrame, supplier_df:pd.DataFrame):\n",
    "#     cost_w_to_s = distance_df.copy()\n",
    "#     for w in range(len(distance_df.index)):\n",
    "#         for s in range(len(distance_df.columns)):\n",
    "#             if supplier_df.at[s,'SupplierVehicleType'] == 0:\n",
    "#                 cost_w_to_s.at[w,s] = 2 * distance_df.at[w,s] * vehicle_df.at[0,'VehicleCostPerMileAndTonneOverall'] / 1000   \n",
    "#             elif supplier_df.at[s,'SupplierVehicleType'] == 1:\n",
    "#                 cost_w_to_s.at[w,s] = 2 * distance_df.at[w,s] * vehicle_df.at[1,'VehicleCostPerMileAndTonneOverall'] / 1000   \n",
    "#             else:\n",
    "#                 pass\n",
    "#     return cost_w_to_s"
   ]
  },
  {
   "cell_type": "code",
   "execution_count": null,
   "metadata": {},
   "outputs": [],
   "source": []
  },
  {
   "cell_type": "code",
   "execution_count": null,
   "metadata": {},
   "outputs": [],
   "source": [
    "distance_w_to_cluster_df = pp.create_dis_mat_df(candidate_df, cluster_center_df,'cityblock')\n",
    "\n",
    "# Create Cost\n",
    "cost_w_to_cluster = pp.calculate_cost_from_w_to_cluster(distance_w_to_cluster_df, vehicle_df)\n",
    "cost_w_to_s = pp.calculate_cost_from_w_to_s(distance_w_to_s_df, vehicle_df, supplier_df)"
   ]
  },
  {
   "cell_type": "code",
   "execution_count": null,
   "metadata": {},
   "outputs": [],
   "source": []
  },
  {
   "cell_type": "code",
   "execution_count": null,
   "metadata": {},
   "outputs": [],
   "source": [
    "\n"
   ]
  },
  {
   "cell_type": "code",
   "execution_count": null,
   "metadata": {},
   "outputs": [],
   "source": [
    "asdfasdf"
   ]
  },
  {
   "cell_type": "code",
   "execution_count": null,
   "metadata": {},
   "outputs": [],
   "source": []
  }
 ],
 "metadata": {
  "kernelspec": {
   "display_name": "trm_conda",
   "language": "python",
   "name": "python3"
  },
  "language_info": {
   "codemirror_mode": {
    "name": "ipython",
    "version": 3
   },
   "file_extension": ".py",
   "mimetype": "text/x-python",
   "name": "python",
   "nbconvert_exporter": "python",
   "pygments_lexer": "ipython3",
   "version": "3.11.7"
  }
 },
 "nbformat": 4,
 "nbformat_minor": 2
}
